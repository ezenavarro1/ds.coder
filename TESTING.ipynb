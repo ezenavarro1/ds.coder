{
  "nbformat": 4,
  "nbformat_minor": 0,
  "metadata": {
    "colab": {
      "provenance": []
    },
    "kernelspec": {
      "name": "python3",
      "display_name": "Python 3"
    },
    "language_info": {
      "name": "python"
    }
  },
  "cells": [
    {
      "cell_type": "code",
      "execution_count": 1,
      "metadata": {
        "colab": {
          "base_uri": "https://localhost:8080/"
        },
        "id": "TWTdZ3kRS7qj",
        "outputId": "0b97d678-2662-4812-b055-025ea98edec2"
      },
      "outputs": [
        {
          "output_type": "stream",
          "name": "stdout",
          "text": [
            "Looking in indexes: https://pypi.org/simple, https://us-python.pkg.dev/colab-wheels/public/simple/\n",
            "Collecting sidetable\n",
            "  Downloading sidetable-0.9.1-py3-none-any.whl (19 kB)\n",
            "Requirement already satisfied: pandas>=1.0 in /usr/local/lib/python3.9/dist-packages (from sidetable) (1.3.5)\n",
            "Requirement already satisfied: pytz>=2017.3 in /usr/local/lib/python3.9/dist-packages (from pandas>=1.0->sidetable) (2022.7.1)\n",
            "Requirement already satisfied: numpy>=1.17.3 in /usr/local/lib/python3.9/dist-packages (from pandas>=1.0->sidetable) (1.22.4)\n",
            "Requirement already satisfied: python-dateutil>=2.7.3 in /usr/local/lib/python3.9/dist-packages (from pandas>=1.0->sidetable) (2.8.2)\n",
            "Requirement already satisfied: six>=1.5 in /usr/local/lib/python3.9/dist-packages (from python-dateutil>=2.7.3->pandas>=1.0->sidetable) (1.15.0)\n",
            "Installing collected packages: sidetable\n",
            "Successfully installed sidetable-0.9.1\n"
          ]
        }
      ],
      "source": [
        "import numpy as np\n",
        "import pandas as pd\n",
        "import seaborn as sns\n",
        "import matplotlib.pyplot as plt\n",
        "import sklearn as skn\n",
        "\n",
        "!pip install sidetable\n",
        "import sidetable as stb"
      ]
    },
    {
      "cell_type": "code",
      "source": [
        "df = pd.read_csv(\"train.csv\");\n",
        "\n",
        "df = df.drop(\"Row ID\",1);\n",
        "df = df.drop(\"Order ID\",1);\n",
        "\n",
        "#Descarto columnas que no me gustan"
      ],
      "metadata": {
        "colab": {
          "base_uri": "https://localhost:8080/"
        },
        "id": "IiSnOahQTGgr",
        "outputId": "3a10f5db-f510-4061-8e33-20b141685aac"
      },
      "execution_count": 2,
      "outputs": [
        {
          "output_type": "stream",
          "name": "stderr",
          "text": [
            "<ipython-input-2-c71fa7e22a16>:3: FutureWarning: In a future version of pandas all arguments of DataFrame.drop except for the argument 'labels' will be keyword-only\n",
            "  df = df.drop(\"Row ID\",1);\n",
            "<ipython-input-2-c71fa7e22a16>:4: FutureWarning: In a future version of pandas all arguments of DataFrame.drop except for the argument 'labels' will be keyword-only\n",
            "  df = df.drop(\"Order ID\",1);\n"
          ]
        }
      ]
    },
    {
      "cell_type": "code",
      "source": [
        "encoding = df[[\"Category\",\"Ship Mode\",\n",
        "'Segment',\n",
        "'Sales']]"
      ],
      "metadata": {
        "id": "ThNqovHwTITf"
      },
      "execution_count": 3,
      "outputs": []
    },
    {
      "cell_type": "code",
      "source": [
        "encoding"
      ],
      "metadata": {
        "id": "_Gps9yi2TLV4"
      },
      "execution_count": null,
      "outputs": []
    },
    {
      "cell_type": "code",
      "source": [
        "lista_target = []\n",
        "lista_sales = encoding[\"Sales\"]"
      ],
      "metadata": {
        "id": "aej6OS6oTMcA"
      },
      "execution_count": 5,
      "outputs": []
    },
    {
      "cell_type": "code",
      "source": [
        "for i in lista_sales:\n",
        "    if i > 300:\n",
        "      y = 1\n",
        "      lista_target.append(y)\n",
        "    else:\n",
        "      y = 0\n",
        "      lista_target.append(0)"
      ],
      "metadata": {
        "id": "wLE_O4jyTRHh"
      },
      "execution_count": 6,
      "outputs": []
    },
    {
      "cell_type": "code",
      "source": [
        "encoding[\"target\"] = pd.DataFrame(lista_target)"
      ],
      "metadata": {
        "colab": {
          "base_uri": "https://localhost:8080/"
        },
        "id": "IF8NlgA-TSzY",
        "outputId": "d34aa0e4-4048-4abc-a1ab-3204d6685494"
      },
      "execution_count": 7,
      "outputs": [
        {
          "output_type": "stream",
          "name": "stderr",
          "text": [
            "<ipython-input-7-6ff387e7d4dc>:1: SettingWithCopyWarning: \n",
            "A value is trying to be set on a copy of a slice from a DataFrame.\n",
            "Try using .loc[row_indexer,col_indexer] = value instead\n",
            "\n",
            "See the caveats in the documentation: https://pandas.pydata.org/pandas-docs/stable/user_guide/indexing.html#returning-a-view-versus-a-copy\n",
            "  encoding[\"target\"] = pd.DataFrame(lista_target)\n"
          ]
        }
      ]
    },
    {
      "cell_type": "code",
      "source": [
        "encoding.target.value_counts(normalize = True)"
      ],
      "metadata": {
        "colab": {
          "base_uri": "https://localhost:8080/"
        },
        "id": "5JtbXWeiTUiI",
        "outputId": "8ff29840-e4de-40f5-ee70-0889983876c1"
      },
      "execution_count": 8,
      "outputs": [
        {
          "output_type": "execute_result",
          "data": {
            "text/plain": [
              "0    0.808265\n",
              "1    0.191735\n",
              "Name: target, dtype: float64"
            ]
          },
          "metadata": {},
          "execution_count": 8
        }
      ]
    },
    {
      "cell_type": "code",
      "source": [
        "cat_columns = encoding.select_dtypes(include = \"object\").columns"
      ],
      "metadata": {
        "id": "poA9B7RYTWWQ"
      },
      "execution_count": 9,
      "outputs": []
    },
    {
      "cell_type": "code",
      "source": [
        "X = encoding.drop(\"target\", axis = 1)\n",
        "y = encoding[\"target\"]\n",
        "\n",
        "from sklearn.model_selection import train_test_split\n",
        "X_train, X_test, y_train, y_test = train_test_split(X,y, test_size = 0.3, random_state = 42)\n",
        "\n",
        "print(X_train.shape, y_train.shape)"
      ],
      "metadata": {
        "colab": {
          "base_uri": "https://localhost:8080/"
        },
        "id": "Ty6zin7MTYHI",
        "outputId": "b037e7b8-7d60-438c-9ed6-7d9ff98b5f92"
      },
      "execution_count": 10,
      "outputs": [
        {
          "output_type": "stream",
          "name": "stdout",
          "text": [
            "(6860, 4) (6860,)\n"
          ]
        }
      ]
    },
    {
      "cell_type": "code",
      "source": [
        "from sklearn.preprocessing import OrdinalEncoder\n",
        "\n",
        "le = OrdinalEncoder(handle_unknown = \"use_encoded_value\", unknown_value = -1)\n",
        "\n",
        "le.fit(X_train[cat_columns])\n",
        "X_train[cat_columns] = le.transform(X_train[cat_columns])"
      ],
      "metadata": {
        "id": "wPWOPclpTbCf"
      },
      "execution_count": 11,
      "outputs": []
    },
    {
      "cell_type": "code",
      "source": [
        "X_train"
      ],
      "metadata": {
        "id": "sZpD88iiTwgN"
      },
      "execution_count": null,
      "outputs": []
    },
    {
      "cell_type": "code",
      "source": [
        "X_train.info()"
      ],
      "metadata": {
        "colab": {
          "base_uri": "https://localhost:8080/"
        },
        "id": "rN3DTquQTdqw",
        "outputId": "2d800c6a-44e2-47af-93a2-893d5856c8e5"
      },
      "execution_count": 12,
      "outputs": [
        {
          "output_type": "stream",
          "name": "stdout",
          "text": [
            "<class 'pandas.core.frame.DataFrame'>\n",
            "Int64Index: 6860 entries, 9465 to 7270\n",
            "Data columns (total 4 columns):\n",
            " #   Column     Non-Null Count  Dtype  \n",
            "---  ------     --------------  -----  \n",
            " 0   Category   6860 non-null   float64\n",
            " 1   Ship Mode  6860 non-null   float64\n",
            " 2   Segment    6860 non-null   float64\n",
            " 3   Sales      6860 non-null   float64\n",
            "dtypes: float64(4)\n",
            "memory usage: 268.0 KB\n"
          ]
        }
      ]
    },
    {
      "cell_type": "code",
      "source": [
        "from sklearn.svm import SVC \n",
        "classifier = SVC(kernel = \"linear\")\n",
        " "
      ],
      "metadata": {
        "id": "eMvJ_DThTfV4"
      },
      "execution_count": 13,
      "outputs": []
    },
    {
      "cell_type": "code",
      "source": [
        "X_test[cat_columns] =le.transform(X_test[cat_columns])"
      ],
      "metadata": {
        "id": "zCSJRkhoTh8I"
      },
      "execution_count": 14,
      "outputs": []
    },
    {
      "cell_type": "code",
      "source": [
        "pred = classifier.predict(X_test)\n",
        "\n",
        "testing = pd.DataFrame ({\"y_true\":y_test, 'pred':pred})"
      ],
      "metadata": {
        "id": "DSwcJlrtTlHv"
      },
      "execution_count": null,
      "outputs": []
    },
    {
      "cell_type": "code",
      "source": [
        "testing.value_counts()"
      ],
      "metadata": {
        "colab": {
          "base_uri": "https://localhost:8080/",
          "height": 171
        },
        "id": "xj5kalsZTmtH",
        "outputId": "3c99fd9a-4fd4-416a-951d-db5e664a6da5"
      },
      "execution_count": 16,
      "outputs": [
        {
          "output_type": "error",
          "ename": "NameError",
          "evalue": "ignored",
          "traceback": [
            "\u001b[0;31m---------------------------------------------------------------------------\u001b[0m",
            "\u001b[0;31mNameError\u001b[0m                                 Traceback (most recent call last)",
            "\u001b[0;32m<ipython-input-16-8ba7079e019b>\u001b[0m in \u001b[0;36m<module>\u001b[0;34m\u001b[0m\n\u001b[0;32m----> 1\u001b[0;31m \u001b[0mtesting\u001b[0m\u001b[0;34m.\u001b[0m\u001b[0mvalue_counts\u001b[0m\u001b[0;34m(\u001b[0m\u001b[0;34m)\u001b[0m\u001b[0;34m\u001b[0m\u001b[0;34m\u001b[0m\u001b[0m\n\u001b[0m",
            "\u001b[0;31mNameError\u001b[0m: name 'testing' is not defined"
          ]
        }
      ]
    },
    {
      "cell_type": "code",
      "source": [
        "from sklearn.metrics import classification_report, f1_score\n",
        "print(classification_report(testing['y_true'], testing['pred']))"
      ],
      "metadata": {
        "colab": {
          "base_uri": "https://localhost:8080/",
          "height": 189
        },
        "id": "hKAnDTQFTpZQ",
        "outputId": "b257bc57-0774-4ca9-a941-28a221200059"
      },
      "execution_count": 17,
      "outputs": [
        {
          "output_type": "error",
          "ename": "NameError",
          "evalue": "ignored",
          "traceback": [
            "\u001b[0;31m---------------------------------------------------------------------------\u001b[0m",
            "\u001b[0;31mNameError\u001b[0m                                 Traceback (most recent call last)",
            "\u001b[0;32m<ipython-input-17-687a2f3d6f6d>\u001b[0m in \u001b[0;36m<module>\u001b[0;34m\u001b[0m\n\u001b[1;32m      1\u001b[0m \u001b[0;32mfrom\u001b[0m \u001b[0msklearn\u001b[0m\u001b[0;34m.\u001b[0m\u001b[0mmetrics\u001b[0m \u001b[0;32mimport\u001b[0m \u001b[0mclassification_report\u001b[0m\u001b[0;34m,\u001b[0m \u001b[0mf1_score\u001b[0m\u001b[0;34m\u001b[0m\u001b[0;34m\u001b[0m\u001b[0m\n\u001b[0;32m----> 2\u001b[0;31m \u001b[0mprint\u001b[0m\u001b[0;34m(\u001b[0m\u001b[0mclassification_report\u001b[0m\u001b[0;34m(\u001b[0m\u001b[0mtesting\u001b[0m\u001b[0;34m[\u001b[0m\u001b[0;34m'y_true'\u001b[0m\u001b[0;34m]\u001b[0m\u001b[0;34m,\u001b[0m \u001b[0mtesting\u001b[0m\u001b[0;34m[\u001b[0m\u001b[0;34m'pred'\u001b[0m\u001b[0;34m]\u001b[0m\u001b[0;34m)\u001b[0m\u001b[0;34m)\u001b[0m\u001b[0;34m\u001b[0m\u001b[0;34m\u001b[0m\u001b[0m\n\u001b[0m",
            "\u001b[0;31mNameError\u001b[0m: name 'testing' is not defined"
          ]
        }
      ]
    },
    {
      "cell_type": "code",
      "source": [],
      "metadata": {
        "id": "YKgGzz0RTqs9"
      },
      "execution_count": null,
      "outputs": []
    }
  ]
}